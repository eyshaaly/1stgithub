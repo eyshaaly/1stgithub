{
 "cells": [
  {
   "cell_type": "markdown",
   "id": "e7764afe",
   "metadata": {},
   "source": [
    "# - Indexing"
   ]
  },
  {
   "cell_type": "code",
   "execution_count": 1,
   "id": "507c4fff",
   "metadata": {},
   "outputs": [
    {
     "data": {
      "text/plain": [
       "'samosa pakora'"
      ]
     },
     "execution_count": 1,
     "metadata": {},
     "output_type": "execute_result"
    }
   ],
   "source": [
    "#make a string\n",
    "a = \"samosa pakora\"\n",
    "a"
   ]
  },
  {
   "cell_type": "code",
   "execution_count": 2,
   "id": "75954588",
   "metadata": {},
   "outputs": [
    {
     "data": {
      "text/plain": [
       "'samosa pakora'"
      ]
     },
     "execution_count": 2,
     "metadata": {},
     "output_type": "execute_result"
    }
   ],
   "source": [
    "a"
   ]
  },
  {
   "cell_type": "code",
   "execution_count": 4,
   "id": "a825a1b8",
   "metadata": {},
   "outputs": [
    {
     "data": {
      "text/plain": [
       "13"
      ]
     },
     "execution_count": 4,
     "metadata": {},
     "output_type": "execute_result"
    }
   ],
   "source": [
    "# length of indeces\n",
    "len(a)"
   ]
  },
  {
   "cell_type": "code",
   "execution_count": 5,
   "id": "db30b077",
   "metadata": {},
   "outputs": [
    {
     "data": {
      "text/plain": [
       "'s'"
      ]
     },
     "execution_count": 5,
     "metadata": {},
     "output_type": "execute_result"
    }
   ],
   "source": [
    "a[0]"
   ]
  },
  {
   "cell_type": "code",
   "execution_count": 6,
   "id": "0bd6e7eb",
   "metadata": {},
   "outputs": [
    {
     "data": {
      "text/plain": [
       "'a'"
      ]
     },
     "execution_count": 6,
     "metadata": {},
     "output_type": "execute_result"
    }
   ],
   "source": [
    "a[1]"
   ]
  },
  {
   "cell_type": "code",
   "execution_count": 7,
   "id": "7830121d",
   "metadata": {},
   "outputs": [
    {
     "data": {
      "text/plain": [
       "'o'"
      ]
     },
     "execution_count": 7,
     "metadata": {},
     "output_type": "execute_result"
    }
   ],
   "source": [
    "a[3]"
   ]
  },
  {
   "cell_type": "code",
   "execution_count": 8,
   "id": "b2ff399f",
   "metadata": {},
   "outputs": [
    {
     "data": {
      "text/plain": [
       "'a'"
      ]
     },
     "execution_count": 8,
     "metadata": {},
     "output_type": "execute_result"
    }
   ],
   "source": [
    "a[12]"
   ]
  },
  {
   "cell_type": "code",
   "execution_count": 9,
   "id": "5100ed4d",
   "metadata": {},
   "outputs": [
    {
     "data": {
      "text/plain": [
       "'samos'"
      ]
     },
     "execution_count": 9,
     "metadata": {},
     "output_type": "execute_result"
    }
   ],
   "source": [
    "a[0:5]"
   ]
  },
  {
   "cell_type": "code",
   "execution_count": 10,
   "id": "26409c62",
   "metadata": {},
   "outputs": [
    {
     "data": {
      "text/plain": [
       "'samosa pakora'"
      ]
     },
     "execution_count": 10,
     "metadata": {},
     "output_type": "execute_result"
    }
   ],
   "source": [
    "# last index is exclusive\n",
    "a[0:13]"
   ]
  },
  {
   "cell_type": "code",
   "execution_count": 11,
   "id": "8852e984",
   "metadata": {},
   "outputs": [
    {
     "data": {
      "text/plain": [
       "'pakora'"
      ]
     },
     "execution_count": 11,
     "metadata": {},
     "output_type": "execute_result"
    }
   ],
   "source": [
    "a[-6:13]"
   ]
  },
  {
   "cell_type": "code",
   "execution_count": 12,
   "id": "8565c20f",
   "metadata": {},
   "outputs": [
    {
     "data": {
      "text/plain": [
       "'biryani'"
      ]
     },
     "execution_count": 12,
     "metadata": {},
     "output_type": "execute_result"
    }
   ],
   "source": [
    "food=\"biryani\"\n",
    "food"
   ]
  },
  {
   "cell_type": "markdown",
   "id": "eb40c187",
   "metadata": {},
   "source": [
    "# string methods"
   ]
  },
  {
   "cell_type": "code",
   "execution_count": 13,
   "id": "34657c34",
   "metadata": {},
   "outputs": [
    {
     "data": {
      "text/plain": [
       "'biryani'"
      ]
     },
     "execution_count": 13,
     "metadata": {},
     "output_type": "execute_result"
    }
   ],
   "source": [
    "food"
   ]
  },
  {
   "cell_type": "code",
   "execution_count": 14,
   "id": "77a9f912",
   "metadata": {},
   "outputs": [
    {
     "data": {
      "text/plain": [
       "7"
      ]
     },
     "execution_count": 14,
     "metadata": {},
     "output_type": "execute_result"
    }
   ],
   "source": [
    "len(biryani)"
   ]
  },
  {
   "cell_type": "code",
   "execution_count": 15,
   "id": "e83f3b5a",
   "metadata": {},
   "outputs": [
    {
     "data": {
      "text/plain": [
       "'Biryani'"
      ]
     },
     "execution_count": 15,
     "metadata": {},
     "output_type": "execute_result"
    }
   ],
   "source": [
    "#capitalize every eleement\n",
    "food.capitalize()"
   ]
  },
  {
   "cell_type": "code",
   "execution_count": 16,
   "id": "f3bab84e",
   "metadata": {},
   "outputs": [
    {
     "data": {
      "text/plain": [
       "'BIRYANI'"
      ]
     },
     "execution_count": 16,
     "metadata": {},
     "output_type": "execute_result"
    }
   ],
   "source": [
    "# uppercase letters\n",
    "food.upper()"
   ]
  },
  {
   "cell_type": "code",
   "execution_count": 17,
   "id": "48cc426c",
   "metadata": {},
   "outputs": [
    {
     "data": {
      "text/plain": [
       "'biryani'"
      ]
     },
     "execution_count": 17,
     "metadata": {},
     "output_type": "execute_result"
    }
   ],
   "source": [
    "#lowercase letters\n",
    "food.lower()"
   ]
  },
  {
   "cell_type": "code",
   "execution_count": 18,
   "id": "4e3b2557",
   "metadata": {},
   "outputs": [
    {
     "data": {
      "text/plain": [
       "'shiryani'"
      ]
     },
     "execution_count": 18,
     "metadata": {},
     "output_type": "execute_result"
    }
   ],
   "source": [
    "#replace\n",
    "food.replace(\"b\" , \"sh\")"
   ]
  },
  {
   "cell_type": "code",
   "execution_count": 22,
   "id": "dae19619",
   "metadata": {},
   "outputs": [
    {
     "data": {
      "text/plain": [
       "'baba_aammar with Dr Aammar Tufail'"
      ]
     },
     "execution_count": 22,
     "metadata": {},
     "output_type": "execute_result"
    }
   ],
   "source": [
    "#counting a specific alphabet in a string\n",
    "name = \"baba_aammar with Dr Aammar Tufail\"\n",
    "name"
   ]
  },
  {
   "cell_type": "code",
   "execution_count": 21,
   "id": "17cd0a12",
   "metadata": {},
   "outputs": [
    {
     "data": {
      "text/plain": [
       "8"
      ]
     },
     "execution_count": 21,
     "metadata": {},
     "output_type": "execute_result"
    }
   ],
   "source": [
    "name.count(\"a\")"
   ]
  },
  {
   "cell_type": "markdown",
   "id": "c748fb2d",
   "metadata": {},
   "source": [
    "### - Finding an index number in string"
   ]
  },
  {
   "cell_type": "code",
   "execution_count": 23,
   "id": "24a8088c",
   "metadata": {},
   "outputs": [
    {
     "data": {
      "text/plain": [
       "'baba_aammar with Dr Aammar Tufail'"
      ]
     },
     "execution_count": 23,
     "metadata": {},
     "output_type": "execute_result"
    }
   ],
   "source": [
    "name = \"baba_aammar with Dr Aammar Tufail\"\n",
    "name"
   ]
  },
  {
   "cell_type": "code",
   "execution_count": 24,
   "id": "320b529d",
   "metadata": {},
   "outputs": [
    {
     "data": {
      "text/plain": [
       "1"
      ]
     },
     "execution_count": 24,
     "metadata": {},
     "output_type": "execute_result"
    }
   ],
   "source": [
    "name.find(\"a\")"
   ]
  },
  {
   "cell_type": "code",
   "execution_count": 25,
   "id": "7dff3b19",
   "metadata": {},
   "outputs": [
    {
     "data": {
      "text/plain": [
       "0"
      ]
     },
     "execution_count": 25,
     "metadata": {},
     "output_type": "execute_result"
    }
   ],
   "source": [
    "name.find(\"b\")"
   ]
  },
  {
   "cell_type": "code",
   "execution_count": 26,
   "id": "81cc8f61",
   "metadata": {},
   "outputs": [
    {
     "data": {
      "text/plain": [
       "27"
      ]
     },
     "execution_count": 26,
     "metadata": {},
     "output_type": "execute_result"
    }
   ],
   "source": [
    "name.find(\"T\")"
   ]
  },
  {
   "cell_type": "code",
   "execution_count": 27,
   "id": "fe3b5ba6",
   "metadata": {},
   "outputs": [
    {
     "data": {
      "text/plain": [
       "'i love samosa, pakora, raita, biryani, karahi'"
      ]
     },
     "execution_count": 27,
     "metadata": {},
     "output_type": "execute_result"
    }
   ],
   "source": [
    "### how to split a string\n",
    "food = \"i love samosa, pakora, raita, biryani, karahi\"\n",
    "food"
   ]
  },
  {
   "cell_type": "code",
   "execution_count": 28,
   "id": "514ee51d",
   "metadata": {},
   "outputs": [
    {
     "data": {
      "text/plain": [
       "['i love samosa', ' pakora', ' raita', ' biryani', ' karahi']"
      ]
     },
     "execution_count": 28,
     "metadata": {},
     "output_type": "execute_result"
    }
   ],
   "source": [
    "food.split(\",\")"
   ]
  },
  {
   "cell_type": "markdown",
   "id": "2748b4b9",
   "metadata": {},
   "source": [
    "# Basic Data Structures in Python"
   ]
  },
  {
   "cell_type": "markdown",
   "id": "f77635e0",
   "metadata": {},
   "source": [
    "**1- Tuples** \n",
    "\n",
    "**2- List**\n",
    "\n",
    "**3- Dictionaries**\n",
    "\n",
    "**4- Sets** "
   ]
  },
  {
   "cell_type": "markdown",
   "id": "23df146e",
   "metadata": {},
   "source": [
    "## 1- Tuple\n",
    "- ordered collection of element\n",
    "- enclosed in round () parenthesis\n",
    "- different kind of element can be stored\n",
    "- once element are stored you can be changed them"
   ]
  },
  {
   "cell_type": "code",
   "execution_count": 41,
   "id": "7c19b214",
   "metadata": {},
   "outputs": [
    {
     "data": {
      "text/plain": [
       "(1, 'python', True, 2.5)"
      ]
     },
     "execution_count": 41,
     "metadata": {},
     "output_type": "execute_result"
    }
   ],
   "source": [
    "tup1 = (1, \"python\", True, 2.5)\n",
    "tup1"
   ]
  },
  {
   "cell_type": "code",
   "execution_count": 42,
   "id": "e347a955",
   "metadata": {},
   "outputs": [
    {
     "data": {
      "text/plain": [
       "tuple"
      ]
     },
     "execution_count": 42,
     "metadata": {},
     "output_type": "execute_result"
    }
   ],
   "source": [
    "# types of a tuple\n",
    "type(tup1)"
   ]
  },
  {
   "cell_type": "markdown",
   "id": "f06d341a",
   "metadata": {},
   "source": [
    "### -Indexing in tuple"
   ]
  },
  {
   "cell_type": "code",
   "execution_count": 43,
   "id": "29433b95",
   "metadata": {},
   "outputs": [
    {
     "data": {
      "text/plain": [
       "1"
      ]
     },
     "execution_count": 43,
     "metadata": {},
     "output_type": "execute_result"
    }
   ],
   "source": [
    "tup1[0]"
   ]
  },
  {
   "cell_type": "code",
   "execution_count": 44,
   "id": "e890f738",
   "metadata": {},
   "outputs": [
    {
     "data": {
      "text/plain": [
       "'python'"
      ]
     },
     "execution_count": 44,
     "metadata": {},
     "output_type": "execute_result"
    }
   ],
   "source": [
    "tup1[1]"
   ]
  },
  {
   "cell_type": "code",
   "execution_count": 45,
   "id": "2055f65f",
   "metadata": {},
   "outputs": [
    {
     "data": {
      "text/plain": [
       "True"
      ]
     },
     "execution_count": 45,
     "metadata": {},
     "output_type": "execute_result"
    }
   ],
   "source": [
    "tup1[2]"
   ]
  },
  {
   "cell_type": "code",
   "execution_count": 46,
   "id": "fd7073b6",
   "metadata": {},
   "outputs": [
    {
     "data": {
      "text/plain": [
       "2.5"
      ]
     },
     "execution_count": 46,
     "metadata": {},
     "output_type": "execute_result"
    }
   ],
   "source": [
    "tup1[3]"
   ]
  },
  {
   "cell_type": "code",
   "execution_count": 47,
   "id": "278ddde7",
   "metadata": {},
   "outputs": [
    {
     "data": {
      "text/plain": [
       "(1, 'python', True)"
      ]
     },
     "execution_count": 47,
     "metadata": {},
     "output_type": "execute_result"
    }
   ],
   "source": [
    "# last element is exclusive\n",
    "tup1[0:3]"
   ]
  },
  {
   "cell_type": "code",
   "execution_count": 48,
   "id": "d50c23c7",
   "metadata": {},
   "outputs": [
    {
     "data": {
      "text/plain": [
       "4"
      ]
     },
     "execution_count": 48,
     "metadata": {},
     "output_type": "execute_result"
    }
   ],
   "source": [
    "#counting a element in a tuple\n",
    "len(tup1)"
   ]
  },
  {
   "cell_type": "code",
   "execution_count": 49,
   "id": "732679b5",
   "metadata": {},
   "outputs": [
    {
     "data": {
      "text/plain": [
       "(2, 'babaAammar', False, 3.5)"
      ]
     },
     "execution_count": 49,
     "metadata": {},
     "output_type": "execute_result"
    }
   ],
   "source": [
    "tup2 = (2, \"babaAammar\", False, 3.5)\n",
    "tup2"
   ]
  },
  {
   "cell_type": "code",
   "execution_count": 50,
   "id": "09d5080d",
   "metadata": {},
   "outputs": [
    {
     "data": {
      "text/plain": [
       "(1, 'python', True, 2.5, 2, 'babaAammar', False, 3.5)"
      ]
     },
     "execution_count": 50,
     "metadata": {},
     "output_type": "execute_result"
    }
   ],
   "source": [
    "tup1 + tup2"
   ]
  },
  {
   "cell_type": "code",
   "execution_count": 51,
   "id": "3fc5a703",
   "metadata": {},
   "outputs": [
    {
     "data": {
      "text/plain": [
       "(1, 'python', True, 2.5, 1, 'python', True, 2.5, 2, 'babaAammar', False, 3.5)"
      ]
     },
     "execution_count": 51,
     "metadata": {},
     "output_type": "execute_result"
    }
   ],
   "source": [
    "tup1*2 + tup2"
   ]
  },
  {
   "cell_type": "code",
   "execution_count": 52,
   "id": "57f18a31",
   "metadata": {},
   "outputs": [
    {
     "data": {
      "text/plain": [
       "(20, 50, 30, 79, 85)"
      ]
     },
     "execution_count": 52,
     "metadata": {},
     "output_type": "execute_result"
    }
   ],
   "source": [
    "tup3 =(20,50,30,79,85)\n",
    "tup3"
   ]
  },
  {
   "cell_type": "code",
   "execution_count": 53,
   "id": "fd860576",
   "metadata": {},
   "outputs": [
    {
     "data": {
      "text/plain": [
       "20"
      ]
     },
     "execution_count": 53,
     "metadata": {},
     "output_type": "execute_result"
    }
   ],
   "source": [
    "#minimum\n",
    "min(tup3)"
   ]
  },
  {
   "cell_type": "code",
   "execution_count": 54,
   "id": "4e5e52f7",
   "metadata": {},
   "outputs": [
    {
     "data": {
      "text/plain": [
       "85"
      ]
     },
     "execution_count": 54,
     "metadata": {},
     "output_type": "execute_result"
    }
   ],
   "source": [
    "max(tup3)"
   ]
  },
  {
   "cell_type": "code",
   "execution_count": 55,
   "id": "ab5c4c0e",
   "metadata": {},
   "outputs": [
    {
     "data": {
      "text/plain": [
       "(20, 50, 30, 79, 85, 20, 50, 30, 79, 85)"
      ]
     },
     "execution_count": 55,
     "metadata": {},
     "output_type": "execute_result"
    }
   ],
   "source": [
    "tup3*2"
   ]
  },
  {
   "cell_type": "markdown",
   "id": "93b6f371",
   "metadata": {},
   "source": [
    "## 2-List\n",
    "- ordered collection of element\n",
    "- enclosed in square [] bracket\n",
    "- mutable you can change the values"
   ]
  },
  {
   "cell_type": "code",
   "execution_count": 56,
   "id": "875af2aa",
   "metadata": {},
   "outputs": [
    {
     "data": {
      "text/plain": [
       "[2, 'babaAammar', False]"
      ]
     },
     "execution_count": 56,
     "metadata": {},
     "output_type": "execute_result"
    }
   ],
   "source": [
    "list1 = [2, \"babaAammar\", False,]\n",
    "list1"
   ]
  },
  {
   "cell_type": "code",
   "execution_count": 57,
   "id": "1a64a42f",
   "metadata": {},
   "outputs": [
    {
     "data": {
      "text/plain": [
       "list"
      ]
     },
     "execution_count": 57,
     "metadata": {},
     "output_type": "execute_result"
    }
   ],
   "source": [
    "type(list1)"
   ]
  },
  {
   "cell_type": "code",
   "execution_count": 58,
   "id": "b3316fc1",
   "metadata": {},
   "outputs": [
    {
     "data": {
      "text/plain": [
       "3"
      ]
     },
     "execution_count": 58,
     "metadata": {},
     "output_type": "execute_result"
    }
   ],
   "source": [
    "len(list1)"
   ]
  },
  {
   "cell_type": "code",
   "execution_count": 65,
   "id": "cd6157b2",
   "metadata": {},
   "outputs": [
    {
     "data": {
      "text/plain": [
       "False"
      ]
     },
     "execution_count": 65,
     "metadata": {},
     "output_type": "execute_result"
    }
   ],
   "source": [
    "list1[2]"
   ]
  },
  {
   "cell_type": "code",
   "execution_count": 72,
   "id": "3018c680",
   "metadata": {},
   "outputs": [
    {
     "data": {
      "text/plain": [
       "[3, 5, 'Codanics', 'Aammar', 478, 53.2, False]"
      ]
     },
     "execution_count": 72,
     "metadata": {},
     "output_type": "execute_result"
    }
   ],
   "source": [
    "list2 =[3, 5, \"Codanics\", \"Aammar\", 478, 53.2, False]\n",
    "list2"
   ]
  },
  {
   "cell_type": "code",
   "execution_count": 73,
   "id": "4b5dce74",
   "metadata": {},
   "outputs": [
    {
     "data": {
      "text/plain": [
       "[2, 'babaAammar', False, 3, 5, 'Codanics', 'Aammar', 478, 53.2, False]"
      ]
     },
     "execution_count": 73,
     "metadata": {},
     "output_type": "execute_result"
    }
   ],
   "source": [
    "list1 + list2"
   ]
  },
  {
   "cell_type": "code",
   "execution_count": 74,
   "id": "79d47c24",
   "metadata": {},
   "outputs": [
    {
     "data": {
      "text/plain": [
       "[2, 'babaAammar', False, 2, 'babaAammar', False]"
      ]
     },
     "execution_count": 74,
     "metadata": {},
     "output_type": "execute_result"
    }
   ],
   "source": [
    "list1*2"
   ]
  },
  {
   "cell_type": "code",
   "execution_count": 75,
   "id": "f9a99b2a",
   "metadata": {},
   "outputs": [
    {
     "data": {
      "text/plain": [
       "[2, 'babaAammar', False]"
      ]
     },
     "execution_count": 75,
     "metadata": {},
     "output_type": "execute_result"
    }
   ],
   "source": [
    "list1"
   ]
  },
  {
   "cell_type": "code",
   "execution_count": 76,
   "id": "f3b9c3bb",
   "metadata": {},
   "outputs": [
    {
     "data": {
      "text/plain": [
       "[False, 'babaAammar', 2]"
      ]
     },
     "execution_count": 76,
     "metadata": {},
     "output_type": "execute_result"
    }
   ],
   "source": [
    "list1.reverse()\n",
    "list1"
   ]
  },
  {
   "cell_type": "code",
   "execution_count": 77,
   "id": "4a46590a",
   "metadata": {},
   "outputs": [
    {
     "data": {
      "text/plain": [
       "[False, 'babaAammar', 2, 'Codanics']"
      ]
     },
     "execution_count": 77,
     "metadata": {},
     "output_type": "execute_result"
    }
   ],
   "source": [
    "list1.append(\"Codanics\")\n",
    "list1"
   ]
  },
  {
   "cell_type": "code",
   "execution_count": 85,
   "id": "18a636cb",
   "metadata": {},
   "outputs": [
    {
     "data": {
      "text/plain": [
       "1"
      ]
     },
     "execution_count": 85,
     "metadata": {},
     "output_type": "execute_result"
    }
   ],
   "source": [
    "list1.count(2)\n",
    "# list1.count functin"
   ]
  },
  {
   "cell_type": "code",
   "execution_count": 86,
   "id": "6a408489",
   "metadata": {},
   "outputs": [
    {
     "data": {
      "text/plain": [
       "[20, 30, 35, 50, 40, 12, 15, 11, 10, 356, 56, 886]"
      ]
     },
     "execution_count": 86,
     "metadata": {},
     "output_type": "execute_result"
    }
   ],
   "source": [
    "list3 = [20,30,35,50,40,12,15,11,10,356,56,886]\n",
    "list3"
   ]
  },
  {
   "cell_type": "code",
   "execution_count": 87,
   "id": "b523dcac",
   "metadata": {},
   "outputs": [
    {
     "data": {
      "text/plain": [
       "12"
      ]
     },
     "execution_count": 87,
     "metadata": {},
     "output_type": "execute_result"
    }
   ],
   "source": [
    "len(list3)"
   ]
  },
  {
   "cell_type": "code",
   "execution_count": 88,
   "id": "526bd499",
   "metadata": {},
   "outputs": [
    {
     "data": {
      "text/plain": [
       "[10, 11, 12, 15, 20, 30, 35, 40, 50, 56, 356, 886]"
      ]
     },
     "execution_count": 88,
     "metadata": {},
     "output_type": "execute_result"
    }
   ],
   "source": [
    "#sorting a list\n",
    "list3.sort()\n",
    "list3"
   ]
  },
  {
   "cell_type": "code",
   "execution_count": 90,
   "id": "8ac1b5ba",
   "metadata": {},
   "outputs": [
    {
     "data": {
      "text/plain": [
       "[10,\n",
       " 11,\n",
       " 12,\n",
       " 15,\n",
       " 20,\n",
       " 30,\n",
       " 35,\n",
       " 40,\n",
       " 50,\n",
       " 56,\n",
       " 356,\n",
       " 886,\n",
       " 10,\n",
       " 11,\n",
       " 12,\n",
       " 15,\n",
       " 20,\n",
       " 30,\n",
       " 35,\n",
       " 40,\n",
       " 50,\n",
       " 56,\n",
       " 356,\n",
       " 886]"
      ]
     },
     "execution_count": 90,
     "metadata": {},
     "output_type": "execute_result"
    }
   ],
   "source": [
    "list3*2"
   ]
  },
  {
   "cell_type": "code",
   "execution_count": 91,
   "id": "a6a67808",
   "metadata": {},
   "outputs": [
    {
     "data": {
      "text/plain": [
       "[False,\n",
       " 'babaAammar',\n",
       " 2,\n",
       " 'Codanics',\n",
       " 3,\n",
       " 5,\n",
       " 'Codanics',\n",
       " 'Aammar',\n",
       " 478,\n",
       " 53.2,\n",
       " False]"
      ]
     },
     "execution_count": 91,
     "metadata": {},
     "output_type": "execute_result"
    }
   ],
   "source": [
    "lists= list1 + list2\n",
    "lists"
   ]
  },
  {
   "cell_type": "markdown",
   "id": "c1ef8d7b",
   "metadata": {},
   "source": [
    " ## 3- Dictionaries\n",
    " - an unordered collection of element\n",
    " - key and volume\n",
    " - curly {} bracket \n",
    " - mutable you can change the values"
   ]
  },
  {
   "cell_type": "code",
   "execution_count": 1,
   "id": "0a76130b",
   "metadata": {},
   "outputs": [
    {
     "data": {
      "text/plain": [
       "{'samosa': 30, 'pakora': 20, 'raita': 50, 'biryani': 300, 'karahi': 200}"
      ]
     },
     "execution_count": 1,
     "metadata": {},
     "output_type": "execute_result"
    }
   ],
   "source": [
    "#food and their prices\n",
    "food1 = { \"samosa\":30 , \"pakora\":20, \"raita\":50, \"biryani\":300, \"karahi\":200}\n",
    "food1"
   ]
  },
  {
   "cell_type": "code",
   "execution_count": 2,
   "id": "b16555d0",
   "metadata": {},
   "outputs": [
    {
     "data": {
      "text/plain": [
       "dict"
      ]
     },
     "execution_count": 2,
     "metadata": {},
     "output_type": "execute_result"
    }
   ],
   "source": [
    "type(food1)"
   ]
  },
  {
   "cell_type": "code",
   "execution_count": 4,
   "id": "110746ae",
   "metadata": {},
   "outputs": [
    {
     "data": {
      "text/plain": [
       "dict_keys(['samosa', 'pakora', 'raita', 'biryani', 'karahi'])"
      ]
     },
     "execution_count": 4,
     "metadata": {},
     "output_type": "execute_result"
    }
   ],
   "source": [
    "#extract data\n",
    "keys1 = food1.keys()\n",
    "keys1"
   ]
  },
  {
   "cell_type": "code",
   "execution_count": 6,
   "id": "83b6f132",
   "metadata": {},
   "outputs": [
    {
     "data": {
      "text/plain": [
       "dict_values([30, 20, 50, 300, 200])"
      ]
     },
     "execution_count": 6,
     "metadata": {},
     "output_type": "execute_result"
    }
   ],
   "source": [
    "values1 = food1.values()\n",
    "values1"
   ]
  },
  {
   "cell_type": "code",
   "execution_count": 8,
   "id": "229813e5",
   "metadata": {},
   "outputs": [
    {
     "data": {
      "text/plain": [
       "{'samosa': 30,\n",
       " 'pakora': 20,\n",
       " 'raita': 50,\n",
       " 'biryani': 300,\n",
       " 'karahi': 200,\n",
       " 'Tikki': 10}"
      ]
     },
     "execution_count": 8,
     "metadata": {},
     "output_type": "execute_result"
    }
   ],
   "source": [
    "#adding new element\n",
    "food1[\"Tikki\"]=10\n",
    "food1"
   ]
  },
  {
   "cell_type": "code",
   "execution_count": 9,
   "id": "8ab64ca4",
   "metadata": {},
   "outputs": [
    {
     "data": {
      "text/plain": [
       "{'samosa': 30,\n",
       " 'pakora': 20,\n",
       " 'raita': 50,\n",
       " 'biryani': 300,\n",
       " 'karahi': 200,\n",
       " 'Tikki': 15}"
      ]
     },
     "execution_count": 9,
     "metadata": {},
     "output_type": "execute_result"
    }
   ],
   "source": [
    "# update the values\n",
    "food1[\"Tikki\"]=15\n",
    "food1"
   ]
  },
  {
   "cell_type": "code",
   "execution_count": 15,
   "id": "889ad13c",
   "metadata": {},
   "outputs": [
    {
     "data": {
      "text/plain": [
       "{'dates': 150, 'jelly': 200, 'sweets': 50}"
      ]
     },
     "execution_count": 15,
     "metadata": {},
     "output_type": "execute_result"
    }
   ],
   "source": [
    "food2 = {\"dates\":150 , \"jelly\":200 , \"sweets\":50}\n",
    "food2"
   ]
  },
  {
   "cell_type": "code",
   "execution_count": 16,
   "id": "20a925af",
   "metadata": {},
   "outputs": [],
   "source": [
    "food1.update(food2)"
   ]
  },
  {
   "cell_type": "code",
   "execution_count": 17,
   "id": "d50044e7",
   "metadata": {},
   "outputs": [
    {
     "data": {
      "text/plain": [
       "{'samosa': 30,\n",
       " 'pakora': 20,\n",
       " 'raita': 50,\n",
       " 'biryani': 300,\n",
       " 'karahi': 200,\n",
       " 'Tikki': 15,\n",
       " 'dates': 150,\n",
       " 'jelly': 200,\n",
       " 'sweets': 50}"
      ]
     },
     "execution_count": 17,
     "metadata": {},
     "output_type": "execute_result"
    }
   ],
   "source": [
    "food1"
   ]
  },
  {
   "cell_type": "markdown",
   "id": "a98c5868",
   "metadata": {},
   "source": [
    "## - Sets\n",
    "- unordered/unindexed \n",
    "- curly {} bracket\n",
    "- not duplicated allowed"
   ]
  },
  {
   "cell_type": "code",
   "execution_count": 18,
   "id": "00559770",
   "metadata": {},
   "outputs": [
    {
     "data": {
      "text/plain": [
       "{1, 2.2, 5.2, 'Aammar', 'Codanics', False}"
      ]
     },
     "execution_count": 18,
     "metadata": {},
     "output_type": "execute_result"
    }
   ],
   "source": [
    "s1 = {1, 2.2, 5.2, \"Codanics\", \"Aammar\", False}\n",
    "s1 "
   ]
  },
  {
   "cell_type": "code",
   "execution_count": 24,
   "id": "83ee3fec",
   "metadata": {},
   "outputs": [
    {
     "data": {
      "text/plain": [
       "{1, 2.2, 5.2, 'Aammar', 'Aammar1', 'Codanics', False}"
      ]
     },
     "execution_count": 24,
     "metadata": {},
     "output_type": "execute_result"
    }
   ],
   "source": [
    "s1.add(\"Aammar1\")\n",
    "s1"
   ]
  },
  {
   "cell_type": "code",
   "execution_count": 25,
   "id": "42103647",
   "metadata": {},
   "outputs": [
    {
     "data": {
      "text/plain": [
       "{1, 2.2, 5.2, 'Aammar', 'Codanics', False}"
      ]
     },
     "execution_count": 25,
     "metadata": {},
     "output_type": "execute_result"
    }
   ],
   "source": [
    "s1.remove(\"Aammar1\")\n",
    "s1"
   ]
  },
  {
   "cell_type": "code",
   "execution_count": null,
   "id": "ee7f4824",
   "metadata": {},
   "outputs": [],
   "source": []
  }
 ],
 "metadata": {
  "kernelspec": {
   "display_name": "Python 3 (ipykernel)",
   "language": "python",
   "name": "python3"
  },
  "language_info": {
   "codemirror_mode": {
    "name": "ipython",
    "version": 3
   },
   "file_extension": ".py",
   "mimetype": "text/x-python",
   "name": "python",
   "nbconvert_exporter": "python",
   "pygments_lexer": "ipython3",
   "version": "3.9.12"
  }
 },
 "nbformat": 4,
 "nbformat_minor": 5
}
