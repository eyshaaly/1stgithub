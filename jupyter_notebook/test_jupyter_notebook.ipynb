{
 "cells": [
  {
   "cell_type": "markdown",
   "id": "3fcc1bdb",
   "metadata": {},
   "source": [
    "# Python ka chilla\n",
    "## How to us desktop in jupyter notebook\n",
    "### Basics of python\n",
    "**01- My First Program**"
   ]
  },
  {
   "cell_type": "code",
   "execution_count": 3,
   "id": "ffc8846e",
   "metadata": {
    "scrolled": false
   },
   "outputs": [
    {
     "name": "stdout",
     "output_type": "stream",
     "text": [
      "5\n",
      "Hello World\n",
      "We are learning Python with Aammar\n"
     ]
    }
   ],
   "source": [
    "#My_first program in python\n",
    "print(2+3)\n",
    "print(\"Hello World\")\n",
    "print(\"We are learning Python with Aammar\")"
   ]
  },
  {
   "cell_type": "markdown",
   "id": "4e4dd3fc",
   "metadata": {},
   "source": [
    "**02 operators**"
   ]
  },
  {
   "cell_type": "code",
   "execution_count": 4,
   "id": "8bf6b14f",
   "metadata": {},
   "outputs": [
    {
     "name": "stdout",
     "output_type": "stream",
     "text": [
      "3\n",
      "2\n",
      "3.0\n",
      "6\n",
      "1\n",
      "3\n",
      "8\n",
      "6.5\n"
     ]
    }
   ],
   "source": [
    "print(2+1)\n",
    "print(3-1)\n",
    "print(6/2)\n",
    "print(2*3)\n",
    "print(13%2)\n",
    "print(6//2)\n",
    "print(2**3)\n",
    "\n",
    "print(3**2/2*3/3+6-4)\n",
    " "
   ]
  },
  {
   "cell_type": "markdown",
   "id": "826a381a",
   "metadata": {},
   "source": [
    "*PEMDAS\n",
    "Parentheses Exponents Multiplication Division(from left to right),Addition Subtraction (from left to right)*"
   ]
  },
  {
   "cell_type": "markdown",
   "id": "93711a5c",
   "metadata": {},
   "source": [
    "**03 string**"
   ]
  },
  {
   "cell_type": "code",
   "execution_count": 5,
   "id": "bb3a38f4",
   "metadata": {},
   "outputs": [
    {
     "name": "stdout",
     "output_type": "stream",
     "text": [
      "Hello World\n",
      "We are learning Python with Aammar\n",
      "Test for single code\n",
      "test for double code\n",
      "test for tripple code\n",
      "What's  up\n"
     ]
    }
   ],
   "source": [
    "print(\"Hello World\")\n",
    "print(\"We are learning Python with Aammar\")\n",
    "print('Test for single code')\n",
    "print(\"test for double code\")\n",
    "print('''test for tripple code''')\n",
    "\n",
    "print(\"What's  up\")"
   ]
  },
  {
   "cell_type": "markdown",
   "id": "802dbb74",
   "metadata": {},
   "source": [
    "**04 comments**\n",
    "shortcut keys to comment out ctrl+/"
   ]
  },
  {
   "cell_type": "code",
   "execution_count": 2,
   "id": "a329fc7f",
   "metadata": {},
   "outputs": [
    {
     "name": "stdout",
     "output_type": "stream",
     "text": [
      "How are you\n",
      "We are learning Python with Aammar\n",
      "8\n"
     ]
    }
   ],
   "source": [
    "print(\"How are you\")     #press these to comment out ctrl+/\n",
    "print(\"We are learning Python with Aammar\") #print a string\n",
    "print(2+6) #print operators function with number"
   ]
  },
  {
   "cell_type": "markdown",
   "id": "0c17332d",
   "metadata": {},
   "source": [
    "**05 variables** \n",
    "variables:  object containing specific values"
   ]
  },
  {
   "cell_type": "code",
   "execution_count": 4,
   "id": "d45fa9f6",
   "metadata": {},
   "outputs": [
    {
     "name": "stdout",
     "output_type": "stream",
     "text": [
      "5\n",
      "We are learning Python with Aammar\n",
      "15\n",
      "<class 'int'>\n",
      "<class 'str'>\n",
      "<class 'int'>\n",
      "8\n"
     ]
    }
   ],
   "source": [
    "x = 5  #numeric or integers variable\n",
    "print (x)\n",
    "\n",
    "y = \"We are learning Python with Aammar\"  #string variable\n",
    "print (y)\n",
    "\n",
    "x= x+10  #x=15\n",
    "print (x)\n",
    "\n",
    "\n",
    "#types/class of variables\n",
    "type(x)\n",
    "print(type(x))\n",
    "\n",
    "print(type(y))\n",
    "\n",
    "#print_type_class \n",
    "\n",
    "# Rule to assign variable:\n",
    "# 1- the variable should contain letters number or underscore\n",
    "# 2- do not start with numbers\n",
    "# 3- spaces are not allowed\n",
    "# 4- do not use keywords in functions\n",
    "# 5- short and descriptive\n",
    "# 6- case sensitivity uppercase/lowercase letters (lowercase letters should be used)\n",
    "\n",
    "\n",
    "fruit_basket= 8\n",
    "#fruit_basket= \"mangoes\"\n",
    "print(type(fruit_basket))\n",
    "print(fruit_basket)"
   ]
  },
  {
   "cell_type": "markdown",
   "id": "1ba2dfd9",
   "metadata": {},
   "source": [
    "**06 input variables**"
   ]
  },
  {
   "cell_type": "code",
   "execution_count": 5,
   "id": "e72b3bd6",
   "metadata": {},
   "outputs": [
    {
     "name": "stdout",
     "output_type": "stream",
     "text": [
      "what is your name?  zainab\n",
      "hello! zainab\n",
      "what is your name?  zainab\n",
      "how old are you?  17\n",
      "hello! zainab , you are  still young\n"
     ]
    }
   ],
   "source": [
    "# fruit_basket=\"mangoes\"\n",
    "# print(fruit_basket)\n",
    "\n",
    "#input function simple \n",
    "# fruit_basket=input(\"what is your favourite fruit?  \")\n",
    "# print(fruit_basket)\n",
    "\n",
    "#input function of second stage\n",
    "# name=input (\"what is your name?  \")\n",
    "# greeting=(\"hello!\")\n",
    "# print(greeting,name)\n",
    "\n",
    "#another way of second stage\n",
    "name=input (\"what is your name?  \")\n",
    "print(\"hello!\", name)\n",
    "\n",
    "#third stage input function \n",
    "name=input (\"what is your name?  \")\n",
    "age=input (\"how old are you?  \")\n",
    "greeting=(\"hello!\")\n",
    "\n",
    "print(greeting, name, \", you are  still young\")"
   ]
  },
  {
   "cell_type": "markdown",
   "id": "9e436667",
   "metadata": {},
   "source": [
    "**07- conditional logic**"
   ]
  },
  {
   "cell_type": "code",
   "execution_count": 7,
   "id": "7b7710fb",
   "metadata": {},
   "outputs": [
    {
     "name": "stdout",
     "output_type": "stream",
     "text": [
      "how old is hammad?    5\n",
      "<class 'int'>\n",
      "True\n"
     ]
    }
   ],
   "source": [
    "#logical operators are either \"True OR False\" OR \"YES OR NO\" OR \"0 OR 1\"\n",
    "\n",
    "# Less than or equal\t    <=\n",
    "# Greater than or equal\t\t>=\n",
    "# Equals\t              \t==\n",
    "# Not equal\t            \t!=\n",
    "# Less than \t            <\n",
    "# Greater than \t\t        >\n",
    "\n",
    "#is 4 equal to 4\n",
    "# print(4==4)\n",
    "# print(4!=4)\n",
    "# print(4>3)\n",
    "# print(3>6)\n",
    "# print(3<=5)\n",
    "# print(5>=4)\n",
    "\n",
    "# applications of logical operators\n",
    "# hammad_age=4\n",
    "# age_at_school=5\n",
    "# print(hammad_age==age_at_school)\n",
    "\n",
    "#input function and logical operators\n",
    "age_at_school=5\n",
    "hammad_age=input(\"how old is hammad?    \") #input function\n",
    "hammad_age=int( hammad_age)\n",
    "print(type(hammad_age))\n",
    "print(hammad_age==age_at_school) #logical operators"
   ]
  },
  {
   "cell_type": "markdown",
   "id": "2d989eed",
   "metadata": {},
   "source": [
    "**08- type conversion**"
   ]
  },
  {
   "cell_type": "code",
   "execution_count": 8,
   "id": "e2f2174c",
   "metadata": {},
   "outputs": [
    {
     "name": "stdout",
     "output_type": "stream",
     "text": [
      "What is your name?  zainab\n",
      "zainab <class 'str'>\n"
     ]
    }
   ],
   "source": [
    "# x =  10              #integer\n",
    "# y =  10.2            #float\n",
    "# z = \"Hello!\"         #string\n",
    "\n",
    "# #Implicit Type Conversion\n",
    "# x = x+y\n",
    "# print(x,\"type of x is:\", type(x))\n",
    "\n",
    "#Explicit Type Conversion\n",
    "# age=input(\"What is your age?  \")\n",
    "# #age=int(age)\n",
    "# print(age, type(int(age)))\n",
    "\n",
    "name=input(\"What is your name?  \")\n",
    "print(name, type(str(name)))"
   ]
  },
  {
   "cell_type": "markdown",
   "id": "8cf316cd",
   "metadata": {},
   "source": [
    "**09- if else elif**"
   ]
  },
  {
   "cell_type": "code",
   "execution_count": 9,
   "id": "b57d9d47",
   "metadata": {},
   "outputs": [
    {
     "name": "stdout",
     "output_type": "stream",
     "text": [
      "congratulation! hammad can join the school\n"
     ]
    }
   ],
   "source": [
    "hammad_age=5\n",
    "required_age_at_school=5\n",
    "# QUESTION: can hammad go to school?\n",
    "\n",
    "if hammad_age==required_age_at_school:\n",
    "    print(\"congratulation! hammad can join the school\")\n",
    "elif hammad_age > required_age_at_school:\n",
    "    (\"hammad should join higher secondary school\")\n",
    "elif hammad_age <= 2:\n",
    "    print(\"you should take care of hammad, he is still a baby!\")\n",
    "else:\n",
    "    (\"hammad can not go to school\")"
   ]
  },
  {
   "cell_type": "markdown",
   "id": "2dd6b71b",
   "metadata": {},
   "source": [
    "**11- loop**"
   ]
  },
  {
   "cell_type": "code",
   "execution_count": 10,
   "id": "1a0a68b6",
   "metadata": {},
   "outputs": [
    {
     "name": "stdout",
     "output_type": "stream",
     "text": [
      "Monday\n",
      "Tuesday\n",
      "Wednesday\n",
      "Thursday\n",
      "Saturday\n",
      "Sunday\n"
     ]
    }
   ],
   "source": [
    "#while and for loop\n",
    " #while loop\n",
    "\n",
    "# x=0\n",
    "# while (x<5):\n",
    "#     print(x)\n",
    "#     x=x+1\n",
    "\n",
    "#for loop\n",
    "\n",
    "# for x in range(5,10):\n",
    "#     print(x)\n",
    "\n",
    "# array\n",
    "from ast import If\n",
    "\n",
    "\n",
    "days = [\"Monday\", \"Tuesday\", \"Wednesday\", \"Thursday\", \"Friday\", \"Saturday\", \"Sunday\"]\n",
    "for d in days:\n",
    "    #if (d==\"Friday\"):break   #loop stops\n",
    "    if (d==\"Friday\"):continue #skips d\n",
    "    print(d)"
   ]
  },
  {
   "cell_type": "markdown",
   "id": "53328555",
   "metadata": {},
   "source": [
    "**12- import libraries**"
   ]
  },
  {
   "cell_type": "code",
   "execution_count": 11,
   "id": "195a54b8",
   "metadata": {},
   "outputs": [
    {
     "name": "stdout",
     "output_type": "stream",
     "text": [
      "the value of pi is  3.141592653589793\n",
      "300\n"
     ]
    }
   ],
   "source": [
    "#if you want to print the value of pi\n",
    "import math\n",
    "print(\"the value of pi is \", math.pi)\n",
    "\n",
    "import statistics\n",
    "x=[150,250,350,450]\n",
    "print(statistics.mean(x))\n",
    "\n",
    "#Numpy , Pandas"
   ]
  },
  {
   "cell_type": "markdown",
   "id": "06c22a9b",
   "metadata": {},
   "source": [
    "**13- trouble shooting**"
   ]
  },
  {
   "cell_type": "code",
   "execution_count": 12,
   "id": "2a299559",
   "metadata": {},
   "outputs": [
    {
     "name": "stdout",
     "output_type": "stream",
     "text": [
      "hello  zainab\n"
     ]
    }
   ],
   "source": [
    "#print(We are learning Python with Aammar)   #Syntax Error\n",
    "\n",
    "#print(25/0) #Runtime Er \n",
    "\n",
    "\n",
    "\n",
    "name= \"zainab\"\n",
    "print(\"hello \", name)"
   ]
  },
  {
   "cell_type": "code",
   "execution_count": null,
   "id": "5dc58135",
   "metadata": {},
   "outputs": [],
   "source": []
  }
 ],
 "metadata": {
  "kernelspec": {
   "display_name": "Python 3 (ipykernel)",
   "language": "python",
   "name": "python3"
  },
  "language_info": {
   "codemirror_mode": {
    "name": "ipython",
    "version": 3
   },
   "file_extension": ".py",
   "mimetype": "text/x-python",
   "name": "python",
   "nbconvert_exporter": "python",
   "pygments_lexer": "ipython3",
   "version": "3.9.12"
  }
 },
 "nbformat": 4,
 "nbformat_minor": 5
}
